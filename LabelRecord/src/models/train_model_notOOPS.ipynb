{
 "cells": [
  {
   "cell_type": "code",
   "execution_count": 5,
   "metadata": {
    "collapsed": true
   },
   "outputs": [],
   "source": [
    "import pandas as pd\n",
    "import numpy as np\n",
    "import string\n",
    "import matplotlib.pyplot as plt\n",
    "%matplotlib inline\n",
    "import nltk\n",
    "from nltk.corpus import stopwords\n",
    "import logging\n",
    "import logging.config\n",
    "from sklearn.feature_extraction.text import TfidfVectorizer, CountVectorizer\n",
    "from sklearn import preprocessing\n",
    "from sklearn.pipeline import Pipeline\n",
    "from sklearn.preprocessing import LabelEncoder,LabelBinarizer,OneHotEncoder\n",
    "from sklearn.model_selection import train_test_split\n",
    "\n",
    "# using binary relevance\n",
    "from skmultilearn.problem_transform import BinaryRelevance\n",
    "from sklearn.naive_bayes import GaussianNB\n",
    "from sklearn.metrics import accuracy_score,hamming_loss\n",
    "\n",
    "import os\n",
    "import commonfunction"
   ]
  },
  {
   "cell_type": "code",
   "execution_count": 6,
   "metadata": {
    "collapsed": false
   },
   "outputs": [
    {
     "name": "stdout",
     "output_type": "stream",
     "text": [
      "2018-07-20 15:23:06,777 - __main__ - DEBUG - Testing ******  ==============\n",
      "2018-07-20 15:23:06,777 - __main__ - DEBUG - Retesting the same **** ===========\n",
      "2018-07-20 15:23:06,778 - __main__ - DEBUG - -------------- Testing  ============== \n",
      "2018-07-20 15:23:06,778 - __main__ - DEBUG - -------------- Retesting the same  ==============\n"
     ]
    }
   ],
   "source": [
    "logging.basicConfig()\n",
    "logging.config.fileConfig(os.path.abspath('../config/logging.conf'))\n",
    "logger = logging.getLogger(__name__)\n",
    "logger.debug('Testing ******  ==============')\n",
    "logger.debug(\"Retesting the same **** ===========\")\n",
    "\n",
    "logger.debug('-------------- Testing  ============== ')\n",
    "logger.debug(\"-------------- Retesting the same  ==============\")"
   ]
  },
  {
   "cell_type": "code",
   "execution_count": 25,
   "metadata": {
    "collapsed": true
   },
   "outputs": [],
   "source": [
    "train_df = pd.read_csv(\"../../data/processed/train.csv\")\n",
    "test_df = pd.read_csv(\"../../data/processed/test.csv\")"
   ]
  },
  {
   "cell_type": "code",
   "execution_count": 26,
   "metadata": {
    "collapsed": true
   },
   "outputs": [],
   "source": [
    "le  = LabelBinarizer()\n",
    "cat_arr = le.fit_transform(train_df['cat'])\n",
    "\n",
    "cat_df = pd.DataFrame(data=cat_arr,columns=le.classes_)\n",
    "\n",
    "train_df[pd.isnull(train_df['subcat'])]  = 'NaN'\n",
    "subcat_arr = le.fit_transform(train_df['subcat'])\n",
    "\n",
    "subcat_df = pd.DataFrame(data=subcat_arr,columns=le.classes_)\n",
    "\n",
    "Y = pd.concat([cat_df,subcat_df],axis=1)"
   ]
  },
  {
   "cell_type": "code",
   "execution_count": 27,
   "metadata": {
    "collapsed": false
   },
   "outputs": [],
   "source": [
    "Y.drop('NaN',inplace=True,axis=1)"
   ]
  },
  {
   "cell_type": "code",
   "execution_count": 28,
   "metadata": {
    "collapsed": true
   },
   "outputs": [],
   "source": [
    "col_todrop = ['cat','subcat','Unnamed: 0','Unnamed: 0.1','document_id','no_pages','no_words','ques_cnt']\n",
    "for col in col_todrop:\n",
    "    train_df.drop(col,axis=1,inplace=True)  \n",
    "    \n",
    "col_todrop = ['Unnamed: 0','Unnamed: 0.1','document_id','no_pages','no_words','ques_cnt']\n",
    "for col in col_todrop:\n",
    "    test_df.drop(col,axis=1,inplace=True)\n",
    "\n",
    "X_train, X_test, Y_train, Y_test = train_test_split(train_df['content'], Y, test_size=0.33, random_state=42)"
   ]
  },
  {
   "cell_type": "code",
   "execution_count": 29,
   "metadata": {
    "collapsed": false
   },
   "outputs": [],
   "source": [
    "from skmultilearn.problem_transform import LabelPowerset\n",
    "pipe = Pipeline([\n",
    "    ('cv', CountVectorizer()),\n",
    "    ('tfidf', TfidfTransformer()),\n",
    "    ('BR_GB', LabelPowerset(GaussianNB())),\n",
    "])"
   ]
  },
  {
   "cell_type": "code",
   "execution_count": 30,
   "metadata": {
    "collapsed": false
   },
   "outputs": [
    {
     "name": "stdout",
     "output_type": "stream",
     "text": [
      "Test accuracy is 0.634429400387\n"
     ]
    }
   ],
   "source": [
    "# initialize binary relevance multi-label classifier\n",
    "# with a gaussian naive bayes base classifier\n",
    "#classifier = BinaryRelevance(GaussianNB())\n",
    "\n",
    "# train\n",
    "pipe.fit(X_train, Y_train)\n",
    "\n",
    "# predict\n",
    "prediction = pipe.predict(X_test)\n",
    "\n",
    "print('Test accuracy is {}'.format(accuracy_score(Y_test, prediction)))"
   ]
  },
  {
   "cell_type": "code",
   "execution_count": 31,
   "metadata": {
    "collapsed": false
   },
   "outputs": [
    {
     "name": "stdout",
     "output_type": "stream",
     "text": [
      "Hamming loss is 0.0549875656259\n"
     ]
    }
   ],
   "source": [
    "print('Hamming loss is {}'.format(hamming_loss(Y_test, prediction)))"
   ]
  }
 ],
 "metadata": {
  "kernelspec": {
   "display_name": "Python 2",
   "language": "python",
   "name": "python2"
  },
  "language_info": {
   "codemirror_mode": {
    "name": "ipython",
    "version": 2
   },
   "file_extension": ".py",
   "mimetype": "text/x-python",
   "name": "python",
   "nbconvert_exporter": "python",
   "pygments_lexer": "ipython2",
   "version": "2.7.13"
  }
 },
 "nbformat": 4,
 "nbformat_minor": 2
}
