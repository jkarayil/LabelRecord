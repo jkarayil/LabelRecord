{
 "cells": [
  {
   "cell_type": "code",
   "execution_count": null,
   "metadata": {
    "collapsed": true
   },
   "outputs": [],
   "source": [
    "def getlabelname(i):\n",
    "             \n",
    "    casestmt = {\n",
    "         0: 'Billing',\n",
    "         1: 'Clinic/Doctors Office',\n",
    "         2: 'Employment',\n",
    "         3: 'Hospitalization',\n",
    "         4: 'Insurance/Disability',\n",
    "         5: 'Military',\n",
    "         6: 'NRLs',         \n",
    "         7: 'CardiacData',\n",
    "         8: 'Consents',\n",
    "         9: 'Correspondence',\n",
    "        10: 'EmergencyRoomRecord',\n",
    "        11: 'Insurance/DisabilityCorrespondence',\n",
    "        12: 'LaboratoryReports',\n",
    "        13: 'NaN',\n",
    "        14: \"Nurses' Notes/Telephone Logs\",\n",
    "        15: 'Physicians/Orders',\n",
    "        16: 'Prescriptions/MedicationLists',\n",
    "        17: 'ProgressNotes',\n",
    "        18: \"X-Rays/MRIs/CTscansRadiologyQuestionnaries\"\n",
    "   }\n",
    "    \n",
    "    return(casestmt.get(i,'lnvalid label'))"
   ]
  },
  {
   "cell_type": "code",
   "execution_count": null,
   "metadata": {
    "collapsed": true
   },
   "outputs": [],
   "source": [
    "def writetofile(dataframe,filetowrite):\n",
    "    dataframe.to_csv(filetowrite)"
   ]
  }
 ],
 "metadata": {
  "kernelspec": {
   "display_name": "Python 2",
   "language": "python",
   "name": "python2"
  },
  "language_info": {
   "codemirror_mode": {
    "name": "ipython",
    "version": 2
   },
   "file_extension": ".py",
   "mimetype": "text/x-python",
   "name": "python",
   "nbconvert_exporter": "python",
   "pygments_lexer": "ipython2",
   "version": "2.7.13"
  }
 },
 "nbformat": 4,
 "nbformat_minor": 2
}
