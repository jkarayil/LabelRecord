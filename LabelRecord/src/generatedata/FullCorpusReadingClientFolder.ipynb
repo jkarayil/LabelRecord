{
 "cells": [
  {
   "cell_type": "code",
   "execution_count": 17,
   "metadata": {
    "collapsed": true
   },
   "outputs": [],
   "source": [
    "import pandas as pd\n",
    "import os,re,sys\n",
    "import numpy as np\n",
    "import glob as glob\n",
    "\n",
    "import config\n",
    "reload(config)\n",
    "\n",
    "fileloc = config.fileloc\n",
    "rawdata_filename = config.rawdata_filename"
   ]
  },
  {
   "cell_type": "code",
   "execution_count": 22,
   "metadata": {
    "collapsed": false
   },
   "outputs": [
    {
     "name": "stdout",
     "output_type": "stream",
     "text": [
      "('The client folder', '/home/medilenz/OCR_Process/Deloach_T/')\n"
     ]
    }
   ],
   "source": [
    "def createNewDataFrame():\n",
    "    \n",
    "    columns = ['document_id','content','cat','subcat']\n",
    "    df_ = pd.DataFrame(columns=columns)\n",
    "    return(df_)\n",
    "\n",
    "\n",
    "def getclinic_cat_subcat(labels):\n",
    "    \n",
    "    cat = labels[0] + '/' + labels[1] + ' ' + labels[2]\n",
    "    subcat = ''\n",
    "    #print('-------', labels, len(labels))\n",
    "    #print(cat)\n",
    "    if ( len(labels) == 4 ):\n",
    "        \n",
    "        subcat = labels[3] \n",
    "        \n",
    "    if ( len(labels) > 4 ):\n",
    "        \n",
    "        subcat=''\n",
    "        count = 3\n",
    "        lablen =  len(labels)\n",
    "        while(count < lablen) :\n",
    "            subcat = subcat + '/' + labels[count]\n",
    "            #print('subcat ********** ',subcat)\n",
    "            count = count + 1\n",
    "    if (subcat[0] == '/'):\n",
    "        subcat = subcat[1:]\n",
    "    return(cat,subcat)\n",
    "    \n",
    "def getcategories(foldername):\n",
    "    \n",
    "    cats = foldername.split('_')\n",
    "    cat =''\n",
    "    sub = ''\n",
    "    if (cats[0].lower() == 'Clinic'.lower()):\n",
    "        \n",
    "        (cat,sub) = getclinic_cat_subcat(cats)\n",
    "        \n",
    "    else:             \n",
    "             \n",
    "        if (len(cats) == 1):\n",
    "            cat = cats[0]\n",
    "            sub = ''\n",
    "        if (len(cats) == 2):\n",
    "            cat = cats[0]\n",
    "            sub = cats[1] \n",
    "        if (len(cats) == 3):\n",
    "            cat = cats[0]\n",
    "            sub = cats[1] + '/' + cats[2] \n",
    "        if ( (len(cats) == 4) ):            \n",
    "            if (cats[0] == 'Insurance'):\n",
    "                cat = cats[0] + cats[1]\n",
    "                sub = cats[2]+'/'+cats[3]\n",
    "            else:\n",
    "                cat =  cats[0]\n",
    "                sub = cats[1] + '/' + cats[2]+'/'+cats[3]\n",
    "        if ( (len(cats) == 5) ):\n",
    "            cat = cats[0] \n",
    "            sub = cats[1] + '/' + cats[2]+'/'+cats[3]+cats[4]\n",
    "        \n",
    "    return(cat,sub)    \n",
    "\n",
    "\n",
    "# In[4]:\n",
    "\n",
    "global df\n",
    "df = createNewDataFrame()\n",
    "\n",
    "#clientFolder='/home/medilenz/OCR_Process/Firm_logic_july_03/'\n",
    "clientFolder = fileloc\n",
    "print(\"The client folder\", clientFolder)\n",
    "\n",
    "paths = glob.glob(clientFolder+'*/')\n",
    " \n",
    "for item in paths:\n",
    "    pdffolders = glob.glob(item+'/*.pdf_work') \n",
    "     \n",
    "    cat,subcat = getcategories(item.split('/')[-2])\n",
    "    for eachpdffolder in pdffolders:\n",
    "        doc_id=eachpdffolder.split('/')[-1].split('.')[0]        \n",
    "        textfile = glob.glob(eachpdffolder+'/page_*[^_6].txt') \n",
    "        no_pages = len(textfile)\n",
    "        #print(\"The no_pages \",eachpdffolder,\"  \", no_pages)\n",
    "        if(no_pages == 1):\n",
    "            with open(eachpdffolder+'/page_0001.txt', 'r') as myfile0:\n",
    "                content = myfile0.read() \n",
    "        elif(no_pages == 2):\n",
    "            with open(eachpdffolder+'/page_0001.txt', 'r') as myfile0:\n",
    "                content = myfile0.read() \n",
    "            with open(eachpdffolder+'/page_0002.txt', 'r') as myfile2:\n",
    "                content = content + myfile2.read()\n",
    "        elif(len(textfile) == 3):\n",
    "            with open(eachpdffolder+'/page_0001.txt', 'r') as myfile0:\n",
    "                content = myfile0.read() \n",
    "            with open(eachpdffolder+'/page_0002.txt', 'r') as myfile1:\n",
    "                content = content + myfile1.read()\n",
    "            with open(eachpdffolder+'/page_0003.txt', 'r') as myfile2:\n",
    "                content = content + myfile2.read()         \n",
    "        else :\n",
    "            \n",
    "            with open(eachpdffolder+'/page_0001.txt', 'r') as myfile0:\n",
    "                content = myfile0.read() \n",
    "            with open(eachpdffolder+'/page_0002.txt', 'r') as myfile1:\n",
    "                content = content + myfile1.read()\n",
    "            #read the last file\n",
    "            lasfile = len(str(no_pages))\n",
    "            no_pages = str(no_pages)\n",
    "            if (lasfile == 1):\n",
    "                lasfile = '/page_000'+no_pages + '.txt'\n",
    "            elif(lasfile == 2 ):\n",
    "                lasfile = '/page_00'+no_pages + '.txt'\n",
    "            elif(lasfile == 3 ):\n",
    "                lasfile = '/page_0'+no_pages + '.txt'\n",
    "            else :\n",
    "                lasfile = '/page_'+no_pages + '.txt'\n",
    "                \n",
    "            with open(eachpdffolder+lasfile, 'r') as myfile:\n",
    "                content =  content + myfile.read()     \n",
    "                \n",
    "            df = df.append([{'document_id':doc_id, 'content':content,'cat':cat, 'subcat': subcat, 'no_pages': no_pages}],ignore_index=True)                        \n",
    "\n",
    "resultfile = \"../../data/raw/\"+rawdata_filename\n",
    "df.to_csv(resultfile)"
   ]
  },
  {
   "cell_type": "code",
   "execution_count": 23,
   "metadata": {
    "collapsed": false
   },
   "outputs": [
    {
     "data": {
      "text/html": [
       "<div>\n",
       "<style scoped>\n",
       "    .dataframe tbody tr th:only-of-type {\n",
       "        vertical-align: middle;\n",
       "    }\n",
       "\n",
       "    .dataframe tbody tr th {\n",
       "        vertical-align: top;\n",
       "    }\n",
       "\n",
       "    .dataframe thead th {\n",
       "        text-align: right;\n",
       "    }\n",
       "</style>\n",
       "<table border=\"1\" class=\"dataframe\">\n",
       "  <thead>\n",
       "    <tr style=\"text-align: right;\">\n",
       "      <th></th>\n",
       "      <th>document_id</th>\n",
       "      <th>content</th>\n",
       "      <th>cat</th>\n",
       "      <th>subcat</th>\n",
       "    </tr>\n",
       "  </thead>\n",
       "  <tbody>\n",
       "  </tbody>\n",
       "</table>\n",
       "</div>"
      ],
      "text/plain": [
       "Empty DataFrame\n",
       "Columns: [document_id, content, cat, subcat]\n",
       "Index: []"
      ]
     },
     "execution_count": 23,
     "metadata": {},
     "output_type": "execute_result"
    }
   ],
   "source": [
    "df.head()"
   ]
  },
  {
   "cell_type": "code",
   "execution_count": 21,
   "metadata": {
    "collapsed": false
   },
   "outputs": [
    {
     "data": {
      "text/plain": [
       "'FL000782091.pdf_work'"
      ]
     },
     "execution_count": 21,
     "metadata": {},
     "output_type": "execute_result"
    }
   ],
   "source": [
    "item = '/home/medilenz/OCR_Process/Deloach_T/FL000782091.pdf_work/'\n",
    "item.split('/')[-2]"
   ]
  }
 ],
 "metadata": {
  "kernelspec": {
   "display_name": "Python 2",
   "language": "python",
   "name": "python2"
  },
  "language_info": {
   "codemirror_mode": {
    "name": "ipython",
    "version": 2
   },
   "file_extension": ".py",
   "mimetype": "text/x-python",
   "name": "python",
   "nbconvert_exporter": "python",
   "pygments_lexer": "ipython2",
   "version": "2.7.13"
  }
 },
 "nbformat": 4,
 "nbformat_minor": 2
}
