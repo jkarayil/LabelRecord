{
 "cells": [
  {
   "cell_type": "code",
   "execution_count": 2,
   "metadata": {
    "collapsed": false
   },
   "outputs": [],
   "source": [
    "import pandas as pd\n",
    "import os,re,sys\n",
    "import numpy as np\n",
    "import glob as glob\n",
    "\n",
    "import GenerateTestDataToPredict_wout_label_config as config\n",
    "reload(config)\n",
    "global df"
   ]
  },
  {
   "cell_type": "code",
   "execution_count": 3,
   "metadata": {
    "collapsed": true
   },
   "outputs": [],
   "source": [
    "def createNewDataFrame():\n",
    "    \n",
    "    columns = ['document_id','content']\n",
    "    df_ = pd.DataFrame(columns=columns)\n",
    "    return(df_)\n",
    " "
   ]
  },
  {
   "cell_type": "code",
   "execution_count": 4,
   "metadata": {
    "collapsed": false
   },
   "outputs": [
    {
     "name": "stderr",
     "output_type": "stream",
     "text": [
      "/home/jayap/anaconda2/lib/python2.7/site-packages/pandas/core/frame.py:6211: FutureWarning: Sorting because non-concatenation axis is not aligned. A future version\n",
      "of pandas will change to not sort by default.\n",
      "\n",
      "To accept the future behavior, pass 'sort=False'.\n",
      "\n",
      "To retain the current behavior and silence the warning, pass 'sort=True'.\n",
      "\n",
      "  sort=sort)\n"
     ]
    }
   ],
   "source": [
    "fileloc = config.fileloc\n",
    "rawdata_filename = config.rawdata_filename\n",
    "\n",
    "df = createNewDataFrame()\n",
    "\n",
    "clientFolder = fileloc\n",
    "paths = glob.glob(clientFolder+'/*.pdf_work')\n",
    "\n",
    "for item in paths:\n",
    "    eachpdffolder = item\n",
    "    doc_id=item.split('/')[-1].split('.')[0]        \n",
    "    textfile = glob.glob(item+'/page_*[^_6].txt') \n",
    "    no_pages = len(textfile)\n",
    "    #print(\"The no_pages \",eachpdffolder,\"  \", no_pages)\n",
    "    if(no_pages == 1):\n",
    "        with open(item+'/page_0001.txt', 'r') as myfile0:\n",
    "            content = myfile0.read() \n",
    "    elif(no_pages == 2):\n",
    "        with open(item+'/page_0001.txt', 'r') as myfile0:\n",
    "            content = myfile0.read() \n",
    "        with open(item+'/page_0002.txt', 'r') as myfile2:\n",
    "            content = content + myfile2.read()\n",
    "    elif(len(textfile) == 3):\n",
    "        with open(item+'/page_0001.txt', 'r') as myfile0:\n",
    "             content = myfile0.read() \n",
    "        with open(item+'/page_0002.txt', 'r') as myfile1:\n",
    "             content = content + myfile1.read()\n",
    "        with open(item+'/page_0003.txt', 'r') as myfile2:\n",
    "             content = content + myfile2.read()         \n",
    "    else :            \n",
    "        with open(item+'/page_0001.txt', 'r') as myfile0:\n",
    "             content = myfile0.read() \n",
    "        with open(item+'/page_0002.txt', 'r') as myfile1:\n",
    "             content = content + myfile1.read()\n",
    "        #read the last file\n",
    "        lasfile = len(str(no_pages))\n",
    "        no_pages = str(no_pages)\n",
    "        if (lasfile == 1):\n",
    "            lasfile = '/page_000'+no_pages + '.txt'\n",
    "        elif(lasfile == 2 ):\n",
    "            lasfile = '/page_00'+no_pages + '.txt'\n",
    "        elif(lasfile == 3 ):\n",
    "            lasfile = '/page_0'+no_pages + '.txt'\n",
    "        else :\n",
    "            lasfile = '/page_'+no_pages + '.txt'\n",
    "                \n",
    "        with open(item+lasfile, 'r') as myfile:\n",
    "            content =  content + myfile.read()     \n",
    "                \n",
    "    df = df.append([{'document_id':doc_id, 'content':content,'no_pages': no_pages}],ignore_index=True)                        \n",
    "\n",
    "resultfile = \"../../data/external/\"+rawdata_filename\n",
    "df.to_csv(resultfile)"
   ]
  },
  {
   "cell_type": "code",
   "execution_count": null,
   "metadata": {
    "collapsed": true
   },
   "outputs": [],
   "source": []
  }
 ],
 "metadata": {
  "kernelspec": {
   "display_name": "Python 2",
   "language": "python",
   "name": "python2"
  },
  "language_info": {
   "codemirror_mode": {
    "name": "ipython",
    "version": 2
   },
   "file_extension": ".py",
   "mimetype": "text/x-python",
   "name": "python",
   "nbconvert_exporter": "python",
   "pygments_lexer": "ipython2",
   "version": "2.7.13"
  }
 },
 "nbformat": 4,
 "nbformat_minor": 2
}
